{
 "cells": [
  {
   "cell_type": "code",
   "execution_count": 11,
   "metadata": {
    "collapsed": true
   },
   "outputs": [],
   "source": [
    "import numpy as np\n",
    "import pylab as pl"
   ]
  },
  {
   "cell_type": "code",
   "execution_count": 12,
   "metadata": {
    "collapsed": false
   },
   "outputs": [],
   "source": [
    "y=np.array([1.0, 2.0, 0.0, -1.0, -3.0, -2.0, 1.0, -1.0])\n",
    "x=np.array([0,0.5/1000,1.0/1000,1.5/1000,2.0/1000,2.5/1000,3.0/1000,3.5/1000])"
   ]
  },
  {
   "cell_type": "code",
   "execution_count": 13,
   "metadata": {
    "collapsed": false
   },
   "outputs": [],
   "source": [
    "def FFT(x,y,T):\n",
    "    N=len(y)\n",
    "    n=N/2\n",
    "    df=1/T\n",
    "    PSD=np.zeros(4)\n",
    "    C=np.zeros(4)\n",
    "    S=np.zeros(4)\n",
    "    for i in range (0,4,1):\n",
    "        for j in range (0,8,1):\n",
    "            if i==0:\n",
    "                C[i] += y[j]\n",
    "            else:\n",
    "                C[i] += np.cos(2*np.pi*(i/T)*x[j])*y[j]\n",
    "                S[i] += np.sin(2*np.pi*(i/T)*x[j])*y[j]     \n",
    "        if i==0:\n",
    "            C[i]=C[i]/N\n",
    "            PSD[i]= C[i]**2/df\n",
    "            print \"i=\",i,C[i],PSD[i]\n",
    "        else:\n",
    "            C[i]= 2.0/N *C[i]\n",
    "            S[i]= 2.0/N *S[i]\n",
    "            PSD[i]= 0.5*((C[i]**2+S[i]**2)/df)\n",
    "            print \"i=\",i,C[i],S[i],PSD[i]\n",
    "    f=np.arange(0,n*df,df)\n",
    "    pl.figure () \n",
    "    pl.plot(f,PSD)\n",
    "    pl.xlabel('Hz')\n",
    "    pl.ylabel('PSD')\n",
    "    pl.show()\n",
    "    return PSD"
   ]
  },
  {
   "cell_type": "code",
   "execution_count": 14,
   "metadata": {
    "collapsed": false
   },
   "outputs": [
    {
     "name": "stdout",
     "output_type": "stream",
     "text": [
      "i= 0 -0.375 0.0005625\n",
      "i= 1 1.70710678119 0.457106781187 0.00624632034356\n",
      "i= 2 -0.75 0.5 0.001625\n",
      "i= 3 0.292893218813 0.957106781187 0.00200367965644\n"
     ]
    }
   ],
   "source": [
    "PSD=FFT(x,y,4.0/1000)"
   ]
  },
  {
   "cell_type": "code",
   "execution_count": 15,
   "metadata": {
    "collapsed": false
   },
   "outputs": [
    {
     "data": {
      "text/plain": [
       "array([ 0.0005625 ,  0.00624632,  0.001625  ,  0.00200368])"
      ]
     },
     "execution_count": 15,
     "metadata": {},
     "output_type": "execute_result"
    }
   ],
   "source": [
    "PSD"
   ]
  },
  {
   "cell_type": "code",
   "execution_count": 16,
   "metadata": {
    "collapsed": true
   },
   "outputs": [],
   "source": [
    "yf  =  np . fft . fft ( y ) "
   ]
  },
  {
   "cell_type": "code",
   "execution_count": 17,
   "metadata": {
    "collapsed": false
   },
   "outputs": [
    {
     "data": {
      "text/plain": [
       "array([ 0.75      ,  1.76724649,  0.90138782,  1.00091949,  0.25      ,\n",
       "        1.00091949,  0.90138782,  1.76724649])"
      ]
     },
     "execution_count": 17,
     "metadata": {},
     "output_type": "execute_result"
    }
   ],
   "source": [
    "PSD2=(abs(yf)*2/8)\n",
    "PSD2"
   ]
  },
  {
   "cell_type": "code",
   "execution_count": 18,
   "metadata": {
    "collapsed": false
   },
   "outputs": [
    {
     "data": {
      "text/plain": [
       "0.00056249999999999996"
      ]
     },
     "execution_count": 18,
     "metadata": {},
     "output_type": "execute_result"
    }
   ],
   "source": [
    "PSD2[0]=PSD2[0]**2/4/250\n",
    "PSD[0]"
   ]
  },
  {
   "cell_type": "code",
   "execution_count": 19,
   "metadata": {
    "collapsed": false
   },
   "outputs": [
    {
     "data": {
      "text/plain": [
       "array([  5.62500000e-04,   6.24632034e-03,   1.62500000e-03,\n",
       "         2.00367966e-03,   2.50000000e-01,   1.00091949e+00,\n",
       "         9.01387819e-01,   1.76724649e+00])"
      ]
     },
     "execution_count": 19,
     "metadata": {},
     "output_type": "execute_result"
    }
   ],
   "source": [
    "PSD2[1]=PSD2[1]**2/2/250\n",
    "PSD2[2]=PSD2[2]**2/2/250\n",
    "PSD2[3]=PSD2[3]**2/2/250\n",
    "PSD2"
   ]
  },
  {
   "cell_type": "code",
   "execution_count": 22,
   "metadata": {
    "collapsed": false
   },
   "outputs": [
    {
     "data": {
      "text/plain": [
       "array([ 0.0005625 ,  0.00624632,  0.001625  ,  0.00200368])"
      ]
     },
     "execution_count": 22,
     "metadata": {},
     "output_type": "execute_result"
    }
   ],
   "source": [
    "PSD2[:4]"
   ]
  },
  {
   "cell_type": "code",
   "execution_count": null,
   "metadata": {
    "collapsed": true
   },
   "outputs": [],
   "source": []
  }
 ],
 "metadata": {
  "anaconda-cloud": {},
  "kernelspec": {
   "display_name": "Python [Root]",
   "language": "python",
   "name": "Python [Root]"
  },
  "language_info": {
   "codemirror_mode": {
    "name": "ipython",
    "version": 2
   },
   "file_extension": ".py",
   "mimetype": "text/x-python",
   "name": "python",
   "nbconvert_exporter": "python",
   "pygments_lexer": "ipython2",
   "version": "2.7.12"
  }
 },
 "nbformat": 4,
 "nbformat_minor": 0
}
